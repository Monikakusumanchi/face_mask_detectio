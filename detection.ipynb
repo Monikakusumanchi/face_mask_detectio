{
 "cells": [
  {
   "cell_type": "code",
   "execution_count": 90,
   "id": "cd217487",
   "metadata": {},
   "outputs": [],
   "source": [
    "import numpy as np\n",
    "import cv2"
   ]
  },
  {
   "cell_type": "code",
   "execution_count": 91,
   "id": "ef5bd597",
   "metadata": {},
   "outputs": [],
   "source": [
    "with_mask=np.load('withmask.npy')\n",
    "without_mask=np.load('withoutmask.npy')"
   ]
  },
  {
   "cell_type": "code",
   "execution_count": 92,
   "id": "28718189",
   "metadata": {},
   "outputs": [],
   "source": [
    "names={0:'Thank You for wearing mask ',1:'no mask no entry'}"
   ]
  },
  {
   "cell_type": "code",
   "execution_count": 93,
   "id": "d297f332",
   "metadata": {},
   "outputs": [
    {
     "data": {
      "text/plain": [
       "(200, 50, 50, 3)"
      ]
     },
     "execution_count": 93,
     "metadata": {},
     "output_type": "execute_result"
    }
   ],
   "source": [
    "with_mask.shape"
   ]
  },
  {
   "cell_type": "code",
   "execution_count": 94,
   "id": "3014aebc",
   "metadata": {},
   "outputs": [
    {
     "data": {
      "text/plain": [
       "(200, 50, 50, 3)"
      ]
     },
     "execution_count": 94,
     "metadata": {},
     "output_type": "execute_result"
    }
   ],
   "source": [
    "without_mask.shape"
   ]
  },
  {
   "cell_type": "code",
   "execution_count": 97,
   "id": "f3345a80",
   "metadata": {},
   "outputs": [],
   "source": [
    "with_mask=with_mask.reshape(200,50*50*3)\n",
    "without_mask=without_mask.reshape(200,50*50*3)"
   ]
  },
  {
   "cell_type": "code",
   "execution_count": 98,
   "id": "4a278089",
   "metadata": {},
   "outputs": [
    {
     "data": {
      "text/plain": [
       "(200, 7500)"
      ]
     },
     "execution_count": 98,
     "metadata": {},
     "output_type": "execute_result"
    }
   ],
   "source": [
    "with_mask.shape"
   ]
  },
  {
   "cell_type": "code",
   "execution_count": 99,
   "id": "af37a817",
   "metadata": {},
   "outputs": [
    {
     "data": {
      "text/plain": [
       "(200, 7500)"
      ]
     },
     "execution_count": 99,
     "metadata": {},
     "output_type": "execute_result"
    }
   ],
   "source": [
    "without_mask.shape"
   ]
  },
  {
   "cell_type": "code",
   "execution_count": 100,
   "id": "80bd2fe9",
   "metadata": {},
   "outputs": [],
   "source": [
    "X=np.r_[with_mask, without_mask]"
   ]
  },
  {
   "cell_type": "code",
   "execution_count": 101,
   "id": "96620b0d",
   "metadata": {},
   "outputs": [
    {
     "data": {
      "text/plain": [
       "(400, 7500)"
      ]
     },
     "execution_count": 101,
     "metadata": {},
     "output_type": "execute_result"
    }
   ],
   "source": [
    "X.shape"
   ]
  },
  {
   "cell_type": "code",
   "execution_count": 102,
   "id": "a4018d9a",
   "metadata": {},
   "outputs": [],
   "source": [
    "labels=np.zeros(X.shape[0])"
   ]
  },
  {
   "cell_type": "code",
   "execution_count": 103,
   "id": "83688ad7",
   "metadata": {},
   "outputs": [],
   "source": [
    "labels[200:]=1.0"
   ]
  },
  {
   "cell_type": "code",
   "execution_count": 104,
   "id": "fd1f9851",
   "metadata": {},
   "outputs": [],
   "source": [
    "from sklearn.svm import SVC\n",
    "from sklearn.metrics import accuracy_score"
   ]
  },
  {
   "cell_type": "code",
   "execution_count": 105,
   "id": "b280ea61",
   "metadata": {},
   "outputs": [],
   "source": [
    "from sklearn.model_selection import train_test_split"
   ]
  },
  {
   "cell_type": "code",
   "execution_count": 106,
   "id": "5b03693f",
   "metadata": {},
   "outputs": [],
   "source": [
    "x_train,x_test,y_train,y_test=train_test_split(X,labels,test_size=0.25)"
   ]
  },
  {
   "cell_type": "code",
   "execution_count": 107,
   "id": "c0a68fcc",
   "metadata": {},
   "outputs": [
    {
     "data": {
      "text/plain": [
       "(300, 7500)"
      ]
     },
     "execution_count": 107,
     "metadata": {},
     "output_type": "execute_result"
    }
   ],
   "source": [
    "x_train.shape"
   ]
  },
  {
   "cell_type": "code",
   "execution_count": 108,
   "id": "28f78847",
   "metadata": {},
   "outputs": [],
   "source": [
    "from sklearn.decomposition import PCA"
   ]
  },
  {
   "cell_type": "code",
   "execution_count": 109,
   "id": "3d7bd6e6",
   "metadata": {},
   "outputs": [],
   "source": [
    "pca=PCA(n_components=3)"
   ]
  },
  {
   "cell_type": "code",
   "execution_count": 110,
   "id": "5a6667e4",
   "metadata": {},
   "outputs": [],
   "source": [
    "x_train=pca.fit_transform(x_train)"
   ]
  },
  {
   "cell_type": "code",
   "execution_count": 111,
   "id": "311fddb7",
   "metadata": {},
   "outputs": [
    {
     "data": {
      "text/plain": [
       "array([-2012.20340788,   509.41372577, -1374.99776071])"
      ]
     },
     "execution_count": 111,
     "metadata": {},
     "output_type": "execute_result"
    }
   ],
   "source": [
    "x_train[0]"
   ]
  },
  {
   "cell_type": "code",
   "execution_count": 112,
   "id": "b6214603",
   "metadata": {},
   "outputs": [
    {
     "data": {
      "text/plain": [
       "(300, 3)"
      ]
     },
     "execution_count": 112,
     "metadata": {},
     "output_type": "execute_result"
    }
   ],
   "source": [
    "x_train.shape"
   ]
  },
  {
   "cell_type": "code",
   "execution_count": 113,
   "id": "aa9ee12a",
   "metadata": {},
   "outputs": [
    {
     "data": {
      "text/plain": [
       "SVC()"
      ]
     },
     "execution_count": 113,
     "metadata": {},
     "output_type": "execute_result"
    }
   ],
   "source": [
    "svm=SVC()\n",
    "svm.fit(x_train,y_train)"
   ]
  },
  {
   "cell_type": "code",
   "execution_count": 114,
   "id": "052d2b44",
   "metadata": {},
   "outputs": [],
   "source": [
    "x_test=pca.transform(x_test)\n",
    "y_pred=svm.predict(x_test)"
   ]
  },
  {
   "cell_type": "code",
   "execution_count": 115,
   "id": "81a47bdc",
   "metadata": {},
   "outputs": [
    {
     "data": {
      "text/plain": [
       "1.0"
      ]
     },
     "execution_count": 115,
     "metadata": {},
     "output_type": "execute_result"
    }
   ],
   "source": [
    "accuracy_score(y_test,y_pred)"
   ]
  },
  {
   "cell_type": "code",
   "execution_count": null,
   "id": "803b7792",
   "metadata": {},
   "outputs": [
    {
     "name": "stdout",
     "output_type": "stream",
     "text": [
      "no mask no entry\n",
      "no mask no entry\n",
      "no mask no entry\n",
      "no mask no entry\n",
      "no mask no entry\n",
      "Thank You for wearing mask \n",
      "no mask no entry\n",
      "no mask no entry\n",
      "no mask no entry\n",
      "no mask no entry\n",
      "no mask no entry\n",
      "no mask no entry\n",
      "no mask no entry\n",
      "no mask no entry\n",
      "no mask no entry\n",
      "no mask no entry\n",
      "no mask no entry\n",
      "no mask no entry\n",
      "no mask no entry\n",
      "no mask no entry\n",
      "no mask no entry\n",
      "no mask no entry\n",
      "no mask no entry\n",
      "no mask no entry\n",
      "no mask no entry\n",
      "no mask no entry\n",
      "no mask no entry\n",
      "no mask no entry\n",
      "no mask no entry\n",
      "no mask no entry\n",
      "no mask no entry\n",
      "no mask no entry\n"
     ]
    }
   ],
   "source": [
    "import cv2\n",
    "import matplotlib.pyplot as plt\n",
    "haar_data=cv2.CascadeClassifier('haarcascade_frontalface_default.xml')\n",
    "capture =cv2.VideoCapture(0)\n",
    "data=[]\n",
    "while True:\n",
    "    flag, img =capture.read()\n",
    "    if flag:\n",
    "        faces=haar_data.detectMultiScale(img)\n",
    "        for x,y,w,h in faces:\n",
    "            cv2.rectangle(img,(x,y),(x+w,y+h),(255,0,255),4)\n",
    "            face=img[y:y+h,x:x+w,:]\n",
    "            face=cv2.resize(face,(50,50))\n",
    "            face=face.reshape(1,-1)\n",
    "            face=pca.transform(face)\n",
    "            pred=svm.predict(face)\n",
    "            n=names[int(pred)]\n",
    "            print(n)\n",
    "        cv2.imshow('result',img)\n",
    "        if cv2.waitKey(2) == 27  :\n",
    "            break\n",
    "capture.release()\n",
    "cv2.destroyAllWindows()\n",
    "            "
   ]
  },
  {
   "cell_type": "code",
   "execution_count": 89,
   "id": "63dfa530",
   "metadata": {},
   "outputs": [
    {
     "name": "stdout",
     "output_type": "stream",
     "text": [
      "no mask no entry\n",
      "no mask no entry\n",
      "no mask no entry\n",
      "no mask no entry\n",
      "no mask no entry\n",
      "no mask no entry\n",
      "no mask no entry\n",
      "no mask no entry\n",
      "no mask no entry\n",
      "no mask no entry\n",
      "no mask no entry\n",
      "no mask no entry\n",
      "no mask no entry\n",
      "no mask no entry\n",
      "no mask no entry\n",
      "no mask no entry\n",
      "no mask no entry\n",
      "no mask no entry\n",
      "no mask no entry\n",
      "no mask no entry\n",
      "no mask no entry\n",
      "no mask no entry\n",
      "no mask no entry\n",
      "no mask no entry\n",
      "no mask no entry\n",
      "no mask no entry\n",
      "no mask no entry\n",
      "no mask no entry\n",
      "no mask no entry\n",
      "no mask no entry\n",
      "no mask no entry\n",
      "no mask no entry\n",
      "no mask no entry\n",
      "no mask no entry\n",
      "no mask no entry\n",
      "no mask no entry\n",
      "no mask no entry\n",
      "no mask no entry\n",
      "no mask no entry\n",
      "no mask no entry\n",
      "no mask no entry\n",
      "no mask no entry\n",
      "no mask no entry\n",
      "no mask no entry\n",
      "no mask no entry\n",
      "no mask no entry\n",
      "no mask no entry\n",
      "no mask no entry\n",
      "no mask no entry\n",
      "no mask no entry\n",
      "no mask no entry\n",
      "no mask no entry\n",
      "no mask no entry\n",
      "no mask no entry\n",
      "no mask no entry\n",
      "no mask no entry\n",
      "no mask no entry\n",
      "no mask no entry\n",
      "no mask no entry\n",
      "no mask no entry\n",
      "no mask no entry\n",
      "no mask no entry\n",
      "no mask no entry\n",
      "no mask no entry\n",
      "no mask no entry\n",
      "no mask no entry\n",
      "no mask no entry\n",
      "no mask no entry\n",
      "no mask no entry\n",
      "no mask no entry\n",
      "no mask no entry\n",
      "no mask no entry\n",
      "no mask no entry\n",
      "no mask no entry\n",
      "no mask no entry\n",
      "no mask no entry\n",
      "no mask no entry\n",
      "no mask no entry\n",
      "no mask no entry\n",
      "no mask no entry\n",
      "no mask no entry\n",
      "no mask no entry\n",
      "no mask no entry\n",
      "no mask no entry\n",
      "no mask no entry\n",
      "no mask no entry\n",
      "no mask no entry\n",
      "no mask no entry\n",
      "no mask no entry\n",
      "no mask no entry\n",
      "no mask no entry\n",
      "no mask no entry\n",
      "no mask no entry\n",
      "no mask no entry\n",
      "no mask no entry\n",
      "no mask no entry\n",
      "no mask no entry\n",
      "no mask no entry\n",
      "no mask no entry\n",
      "no mask no entry\n",
      "no mask no entry\n",
      "no mask no entry\n",
      "no mask no entry\n",
      "no mask no entry\n",
      "no mask no entry\n",
      "no mask no entry\n",
      "no mask no entry\n",
      "no mask no entry\n",
      "no mask no entry\n",
      "no mask no entry\n",
      "no mask no entry\n",
      "no mask no entry\n",
      "no mask no entry\n",
      "no mask no entry\n",
      "no mask no entry\n",
      "no mask no entry\n",
      "no mask no entry\n",
      "no mask no entry\n",
      "no mask no entry\n",
      "no mask no entry\n",
      "no mask no entry\n",
      "no mask no entry\n",
      "no mask no entry\n",
      "no mask no entry\n",
      "no mask no entry\n",
      "no mask no entry\n",
      "no mask no entry\n",
      "no mask no entry\n",
      "no mask no entry\n",
      "no mask no entry\n",
      "no mask no entry\n",
      "no mask no entry\n",
      "no mask no entry\n",
      "no mask no entry\n",
      "no mask no entry\n",
      "no mask no entry\n",
      "no mask no entry\n",
      "no mask no entry\n",
      "no mask no entry\n",
      "no mask no entry\n",
      "no mask no entry\n",
      "no mask no entry\n",
      "no mask no entry\n",
      "no mask no entry\n",
      "no mask no entry\n",
      "no mask no entry\n",
      "no mask no entry\n",
      "no mask no entry\n",
      "no mask no entry\n",
      "no mask no entry\n",
      "no mask no entry\n",
      "no mask no entry\n",
      "no mask no entry\n",
      "no mask no entry\n",
      "no mask no entry\n",
      "no mask no entry\n",
      "no mask no entry\n",
      "no mask no entry\n",
      "no mask no entry\n",
      "no mask no entry\n",
      "no mask no entry\n",
      "no mask no entry\n",
      "no mask no entry\n",
      "no mask no entry\n",
      "no mask no entry\n",
      "no mask no entry\n",
      "no mask no entry\n",
      "no mask no entry\n",
      "no mask no entry\n",
      "no mask no entry\n",
      "no mask no entry\n",
      "no mask no entry\n",
      "no mask no entry\n",
      "no mask no entry\n",
      "no mask no entry\n",
      "no mask no entry\n",
      "no mask no entry\n",
      "no mask no entry\n",
      "no mask no entry\n",
      "no mask no entry\n",
      "no mask no entry\n",
      "no mask no entry\n",
      "no mask no entry\n",
      "no mask no entry\n",
      "no mask no entry\n",
      "no mask no entry\n",
      "no mask no entry\n",
      "no mask no entry\n",
      "no mask no entry\n",
      "no mask no entry\n",
      "no mask no entry\n",
      "Thank You for wearing mask \n",
      "no mask no entry\n",
      "no mask no entry\n",
      "no mask no entry\n",
      "no mask no entry\n",
      "no mask no entry\n",
      "no mask no entry\n",
      "no mask no entry\n",
      "no mask no entry\n",
      "no mask no entry\n",
      "no mask no entry\n",
      "no mask no entry\n",
      "no mask no entry\n",
      "no mask no entry\n",
      "no mask no entry\n",
      "no mask no entry\n",
      "no mask no entry\n",
      "no mask no entry\n",
      "no mask no entry\n",
      "no mask no entry\n",
      "no mask no entry\n",
      "no mask no entry\n",
      "no mask no entry\n",
      "no mask no entry\n",
      "no mask no entry\n",
      "no mask no entry\n",
      "no mask no entry\n",
      "no mask no entry\n",
      "no mask no entry\n",
      "no mask no entry\n",
      "no mask no entry\n",
      "no mask no entry\n",
      "no mask no entry\n",
      "no mask no entry\n",
      "no mask no entry\n",
      "no mask no entry\n",
      "no mask no entry\n",
      "no mask no entry\n",
      "no mask no entry\n",
      "no mask no entry\n",
      "no mask no entry\n",
      "no mask no entry\n",
      "Thank You for wearing mask \n",
      "no mask no entry\n",
      "no mask no entry\n",
      "no mask no entry\n",
      "no mask no entry\n",
      "no mask no entry\n",
      "no mask no entry\n",
      "no mask no entry\n",
      "no mask no entry\n",
      "no mask no entry\n",
      "no mask no entry\n",
      "no mask no entry\n",
      "no mask no entry\n",
      "no mask no entry\n",
      "no mask no entry\n",
      "no mask no entry\n",
      "no mask no entry\n",
      "no mask no entry\n",
      "no mask no entry\n",
      "no mask no entry\n",
      "no mask no entry\n",
      "no mask no entry\n",
      "no mask no entry\n",
      "no mask no entry\n",
      "no mask no entry\n",
      "no mask no entry\n",
      "no mask no entry\n",
      "no mask no entry\n",
      "no mask no entry\n",
      "no mask no entry\n",
      "no mask no entry\n",
      "no mask no entry\n",
      "no mask no entry\n",
      "no mask no entry\n",
      "no mask no entry\n",
      "no mask no entry\n",
      "no mask no entry\n",
      "no mask no entry\n",
      "no mask no entry\n",
      "no mask no entry\n",
      "no mask no entry\n",
      "no mask no entry\n",
      "Thank You for wearing mask \n",
      "Thank You for wearing mask \n",
      "Thank You for wearing mask \n",
      "no mask no entry\n",
      "no mask no entry\n",
      "no mask no entry\n",
      "no mask no entry\n",
      "no mask no entry\n",
      "no mask no entry\n",
      "no mask no entry\n",
      "no mask no entry\n",
      "no mask no entry\n",
      "no mask no entry\n",
      "no mask no entry\n",
      "no mask no entry\n",
      "no mask no entry\n",
      "no mask no entry\n",
      "no mask no entry\n",
      "no mask no entry\n",
      "no mask no entry\n",
      "no mask no entry\n",
      "no mask no entry\n",
      "no mask no entry\n",
      "no mask no entry\n",
      "no mask no entry\n",
      "no mask no entry\n",
      "no mask no entry\n",
      "no mask no entry\n",
      "no mask no entry\n",
      "no mask no entry\n",
      "no mask no entry\n",
      "no mask no entry\n",
      "no mask no entry\n",
      "no mask no entry\n",
      "no mask no entry\n",
      "no mask no entry\n",
      "no mask no entry\n",
      "no mask no entry\n",
      "no mask no entry\n",
      "no mask no entry\n",
      "no mask no entry\n",
      "no mask no entry\n",
      "no mask no entry\n",
      "no mask no entry\n",
      "no mask no entry\n",
      "no mask no entry\n",
      "no mask no entry\n",
      "no mask no entry\n",
      "no mask no entry\n",
      "Thank You for wearing mask \n",
      "Thank You for wearing mask \n",
      "Thank You for wearing mask \n",
      "Thank You for wearing mask \n",
      "no mask no entry\n",
      "no mask no entry\n",
      "no mask no entry\n",
      "no mask no entry\n",
      "no mask no entry\n",
      "no mask no entry\n",
      "no mask no entry\n",
      "no mask no entry\n",
      "no mask no entry\n",
      "no mask no entry\n",
      "no mask no entry\n",
      "no mask no entry\n",
      "no mask no entry\n",
      "Thank You for wearing mask \n",
      "Thank You for wearing mask \n",
      "Thank You for wearing mask \n",
      "Thank You for wearing mask \n",
      "no mask no entry\n",
      "no mask no entry\n",
      "no mask no entry\n",
      "no mask no entry\n",
      "no mask no entry\n",
      "no mask no entry\n",
      "Thank You for wearing mask \n",
      "no mask no entry\n",
      "no mask no entry\n",
      "no mask no entry\n",
      "no mask no entry\n",
      "no mask no entry\n",
      "Thank You for wearing mask \n",
      "no mask no entry\n",
      "Thank You for wearing mask \n",
      "no mask no entry\n",
      "no mask no entry\n",
      "no mask no entry\n",
      "no mask no entry\n",
      "no mask no entry\n",
      "no mask no entry\n",
      "no mask no entry\n",
      "no mask no entry\n",
      "no mask no entry\n",
      "no mask no entry\n"
     ]
    }
   ],
   "source": [
    "import cv2\n",
    "import matplotlib.pyplot as plt\n",
    "haar_data=cv2.CascadeClassifier('haarcascade_frontalface_default.xml')\n",
    "capture =cv2.VideoCapture(0)\n",
    "data=[]\n",
    "font=cv2.FONT_HERSHEY_COMPLEX\n",
    "while True:\n",
    "    flag, img =capture.read()\n",
    "    if flag:\n",
    "        faces=haar_data.detectMultiScale(img)\n",
    "        for x,y,w,h in faces:\n",
    "            cv2.rectangle(img,(x,y),(x+w,y+h),(255,0,255),4)\n",
    "            face=img[y:y+h,x:x+w,:]\n",
    "            face=cv2.resize(face,(50,50))\n",
    "            face=face.reshape(1,-1)\n",
    "            face=pca.transform(face)\n",
    "            pred=svm.predict(face)\n",
    "            n=names[int(pred)]\n",
    "            cv2.putText(img,n,(x,y),font,1,(244,250,250),2)\n",
    "            print(n)\n",
    "        cv2.imshow('result',img)\n",
    "        if cv2.waitKey(2) == 27  :\n",
    "            break\n",
    "capture.release()\n",
    "cv2.destroyAllWindows()\n",
    "            "
   ]
  },
  {
   "cell_type": "code",
   "execution_count": 12,
   "id": "f970e822",
   "metadata": {},
   "outputs": [],
   "source": [
    "import pickle\n",
    "mfn=\"with mask.sav\"\n",
    "mfn1=\"without mask.sav\""
   ]
  },
  {
   "cell_type": "code",
   "execution_count": 10,
   "id": "de52f790",
   "metadata": {},
   "outputs": [
    {
     "ename": "NameError",
     "evalue": "name 'model' is not defined",
     "output_type": "error",
     "traceback": [
      "\u001b[1;31m---------------------------------------------------------------------------\u001b[0m",
      "\u001b[1;31mNameError\u001b[0m                                 Traceback (most recent call last)",
      "\u001b[1;32m<ipython-input-10-6c523db90122>\u001b[0m in \u001b[0;36m<module>\u001b[1;34m\u001b[0m\n\u001b[1;32m----> 1\u001b[1;33m \u001b[0mpickle\u001b[0m\u001b[1;33m.\u001b[0m\u001b[0mdump\u001b[0m\u001b[1;33m(\u001b[0m\u001b[0mmodel\u001b[0m\u001b[1;33m,\u001b[0m\u001b[0mopen\u001b[0m\u001b[1;33m(\u001b[0m\u001b[1;34m'mask_detection.pkl'\u001b[0m\u001b[1;33m,\u001b[0m\u001b[1;34m'wb'\u001b[0m\u001b[1;33m)\u001b[0m\u001b[1;33m)\u001b[0m\u001b[1;33m\u001b[0m\u001b[1;33m\u001b[0m\u001b[0m\n\u001b[0m",
      "\u001b[1;31mNameError\u001b[0m: name 'model' is not defined"
     ]
    }
   ],
   "source": [
    "pickle.dump(model,open('mask_detection.pkl','wb'))"
   ]
  },
  {
   "cell_type": "code",
   "execution_count": 8,
   "id": "9fc55d61",
   "metadata": {},
   "outputs": [
    {
     "ename": "FileNotFoundError",
     "evalue": "[Errno 2] No such file or directory: 'model.pkl'",
     "output_type": "error",
     "traceback": [
      "\u001b[1;31m---------------------------------------------------------------------------\u001b[0m",
      "\u001b[1;31mFileNotFoundError\u001b[0m                         Traceback (most recent call last)",
      "\u001b[1;32m<ipython-input-8-fccd787c18fa>\u001b[0m in \u001b[0;36m<module>\u001b[1;34m\u001b[0m\n\u001b[0;32m      2\u001b[0m \u001b[1;32mimport\u001b[0m \u001b[0mnumpy\u001b[0m \u001b[1;32mas\u001b[0m \u001b[0mnp\u001b[0m\u001b[1;33m\u001b[0m\u001b[1;33m\u001b[0m\u001b[0m\n\u001b[0;32m      3\u001b[0m \u001b[1;32mimport\u001b[0m \u001b[0mpickle\u001b[0m\u001b[1;33m\u001b[0m\u001b[1;33m\u001b[0m\u001b[0m\n\u001b[1;32m----> 4\u001b[1;33m \u001b[0mmodel\u001b[0m \u001b[1;33m=\u001b[0m\u001b[0mpickle\u001b[0m\u001b[1;33m.\u001b[0m\u001b[0mload\u001b[0m\u001b[1;33m(\u001b[0m\u001b[0mopen\u001b[0m\u001b[1;33m(\u001b[0m\u001b[1;34m'model.pkl'\u001b[0m\u001b[1;33m,\u001b[0m\u001b[1;34m'rb'\u001b[0m\u001b[1;33m)\u001b[0m\u001b[1;33m)\u001b[0m\u001b[1;33m\u001b[0m\u001b[1;33m\u001b[0m\u001b[0m\n\u001b[0m\u001b[0;32m      5\u001b[0m \u001b[0mapp\u001b[0m \u001b[1;33m=\u001b[0m \u001b[0mFlask\u001b[0m\u001b[1;33m(\u001b[0m\u001b[0m__name__\u001b[0m\u001b[1;33m)\u001b[0m \u001b[1;33m@\u001b[0m\u001b[0mapp\u001b[0m\u001b[1;33m.\u001b[0m\u001b[0mroute\u001b[0m\u001b[1;33m(\u001b[0m\u001b[1;34m'/'\u001b[0m\u001b[1;33m)\u001b[0m\u001b[1;33m\u001b[0m\u001b[1;33m\u001b[0m\u001b[0m\n\u001b[0;32m      6\u001b[0m \u001b[1;32mdef\u001b[0m \u001b[0mindex\u001b[0m\u001b[1;33m(\u001b[0m\u001b[1;33m)\u001b[0m\u001b[1;33m:\u001b[0m\u001b[1;33m\u001b[0m\u001b[1;33m\u001b[0m\u001b[0m\n",
      "\u001b[1;31mFileNotFoundError\u001b[0m: [Errno 2] No such file or directory: 'model.pkl'"
     ]
    }
   ],
   "source": [
    "from flask import Flask,request,jsonify\n",
    "import numpy as np\n",
    "import pickle\n",
    "model =pickle.load(open('model.pkl','rb')) \n",
    "app = Flask(__name__) @app.route('/')\n",
    "def index(): \n",
    "    return \"Hello world\"\n",
    "@app.route('/predict',methods=['POST'])\n",
    "def predict():\n",
    "    cgpa = request.form.get('cgpa')\n",
    "    iq =request.form.get('iq')\n",
    "    profile_score = request.form.get('profile_score')\n",
    "    input_query =np.array([[cgpa,iq,profile_score]])\n",
    "    result = model.predict(input_query)[0]\n",
    "    return\n",
    "jsonify({'placement':str(result)})\n",
    "if __name__ == '__main__': \n",
    "    app.run(debug=True)\n"
   ]
  },
  {
   "cell_type": "code",
   "execution_count": null,
   "id": "b73e2207",
   "metadata": {},
   "outputs": [],
   "source": []
  },
  {
   "cell_type": "code",
   "execution_count": null,
   "id": "4605d43b",
   "metadata": {},
   "outputs": [],
   "source": []
  },
  {
   "cell_type": "code",
   "execution_count": null,
   "id": "249119ff",
   "metadata": {},
   "outputs": [],
   "source": []
  },
  {
   "cell_type": "code",
   "execution_count": null,
   "id": "179ad2b5",
   "metadata": {},
   "outputs": [],
   "source": []
  },
  {
   "cell_type": "code",
   "execution_count": null,
   "id": "7e2184f9",
   "metadata": {},
   "outputs": [],
   "source": []
  },
  {
   "cell_type": "code",
   "execution_count": null,
   "id": "ae7b00c8",
   "metadata": {},
   "outputs": [],
   "source": []
  }
 ],
 "metadata": {
  "kernelspec": {
   "display_name": "Python 3",
   "language": "python",
   "name": "python3"
  },
  "language_info": {
   "codemirror_mode": {
    "name": "ipython",
    "version": 3
   },
   "file_extension": ".py",
   "mimetype": "text/x-python",
   "name": "python",
   "nbconvert_exporter": "python",
   "pygments_lexer": "ipython3",
   "version": "3.8.8"
  }
 },
 "nbformat": 4,
 "nbformat_minor": 5
}
